{
 "cells": [
  {
   "cell_type": "code",
   "execution_count": 8,
   "id": "initial_id",
   "metadata": {
    "collapsed": true,
    "ExecuteTime": {
     "end_time": "2023-11-26T02:31:19.367657Z",
     "start_time": "2023-11-26T02:31:19.335971Z"
    }
   },
   "outputs": [
    {
     "name": "stdout",
     "output_type": "stream",
     "text": [
      "The autoreload extension is already loaded. To reload it, use:\n",
      "  %reload_ext autoreload\n"
     ]
    }
   ],
   "source": [
    "%load_ext autoreload\n",
    "%autoreload 2"
   ]
  },
  {
   "cell_type": "code",
   "execution_count": 1,
   "outputs": [],
   "source": [
    "from guidance import models, gen, select, instruction\n",
    "from anli.config import Config\n",
    "import guidance\n",
    "import logging"
   ],
   "metadata": {
    "collapsed": false,
    "ExecuteTime": {
     "end_time": "2023-11-27T02:07:11.783022Z",
     "start_time": "2023-11-27T02:07:09.651872Z"
    }
   },
   "id": "e2bbadfbd3d448fc"
  },
  {
   "cell_type": "code",
   "execution_count": 17,
   "outputs": [],
   "source": [
    "logger = logging.getLogger()\n",
    "logger.setLevel(logging.DEBUG)"
   ],
   "metadata": {
    "collapsed": false,
    "ExecuteTime": {
     "end_time": "2023-11-27T02:33:46.177392Z",
     "start_time": "2023-11-27T02:33:46.176990Z"
    }
   },
   "id": "15f1549f37cd8403"
  },
  {
   "cell_type": "code",
   "execution_count": 18,
   "outputs": [
    {
     "name": "stderr",
     "output_type": "stream",
     "text": [
      "DEBUG:urllib3.connectionpool:Resetting dropped connection: huggingface.co\n",
      "DEBUG:urllib3.connectionpool:https://huggingface.co:443 \"HEAD /TheBloke/Mistral-7B-Instruct-v0.1-GGUF/resolve/main/mistral-7b-instruct-v0.1.Q4_K_M.gguf HTTP/1.1\" 302 0\n",
      "DEBUG:root:loading chat model: TheBloke/Mistral-7B-Instruct-v0.1-GGUF-mistral-7b-instruct-v0.1.Q4_K_M.gguf\n",
      "DEBUG:urllib3.connectionpool:https://huggingface.co:443 \"HEAD /TheBloke/Mistral-7B-Instruct-v0.1-GGUF/resolve/main/mistral-7b-instruct-v0.1.Q4_K_M.gguf HTTP/1.1\" 302 0\n",
      "DEBUG:root:loading completion model: TheBloke/Mistral-7B-Instruct-v0.1-GGUF-mistral-7b-instruct-v0.1.Q4_K_M.gguf\n"
     ]
    }
   ],
   "source": [
    "NLU = Config(\"/root/Python-ANLI/anli/example_configs/config.yaml\")\n",
    "# NLU = Config()"
   ],
   "metadata": {
    "collapsed": false,
    "ExecuteTime": {
     "end_time": "2023-11-27T02:33:48.990854Z",
     "start_time": "2023-11-27T02:33:46.706020Z"
    }
   },
   "id": "50b78debc25464f2"
  },
  {
   "cell_type": "code",
   "execution_count": 30,
   "outputs": [],
   "source": [
    "llama2 = NLU.model_completion\n",
    "llmc = NLU.model_chat"
   ],
   "metadata": {
    "collapsed": false,
    "ExecuteTime": {
     "end_time": "2023-11-27T02:51:09.833603Z",
     "start_time": "2023-11-27T02:51:09.830885Z"
    }
   },
   "id": "6fd1428c258e0ce6"
  },
  {
   "cell_type": "markdown",
   "source": [
    "# guidance code"
   ],
   "metadata": {
    "collapsed": false
   },
   "id": "cbc3380687b661ca"
  },
  {
   "cell_type": "code",
   "execution_count": 31,
   "outputs": [],
   "source": [
    "from guidance import gen, select, silent, capture, Tool, one_or_more, any_char, commit_point\n",
    "from guidance import system, user, assistant\n",
    "import collections"
   ],
   "metadata": {
    "collapsed": false,
    "ExecuteTime": {
     "end_time": "2023-11-27T02:51:10.629079Z",
     "start_time": "2023-11-27T02:51:10.628457Z"
    }
   },
   "id": "8af9a4a7abb535fa"
  },
  {
   "cell_type": "markdown",
   "source": [
    "First, let's write an initial prompt with some few-shot examples of REACT.\n",
    "This prompt is trying to get the model to:\n",
    "\n",
    "If the user's request didn't specify a tool,\n",
    "search the registry to find a command line tool fits complete user's request, and confirm with the user.\n",
    "If the user's request did specify a tool, then read the help manual of the tool, and identify the relevant command line options.\n",
    "Determine whether the user's request provided all the parameters and options, and if not, ask the user for more information.\n",
    "Construct the command line, Do extra searches if needed. (optionally) confirm with the user, and execute it."
   ],
   "metadata": {
    "collapsed": false
   },
   "id": "53d8c15c501d85a0"
  },
  {
   "cell_type": "code",
   "execution_count": 32,
   "outputs": [],
   "source": [
    "@guidance\n",
    "def init_system(lm):\n",
    "    # silent makes this whole thing not appear in the jupyter notebook visualization\n",
    "    with silent():\n",
    "        with system():\n",
    "            lm += '''\\\n",
    "You are a nice chatbot that assist users in executing command line programs.\n",
    "Whenever you receive a request, you perform a logical reasoning step by step to determine what to do.\n",
    "Every step, you can choose to think more about your plan, or you can take an action to obtain more information.\n",
    "You run a loop of [Thought, Act, Observation] until you achieve a response, where Act is one of \n",
    "(search, read_manual, gather_parameters, construct_command, execute_command, chat_with_user).\n",
    "\n",
    "search (if needed): If the user doesn't specify a tool, you use an internet search engine to find a command line tool\n",
    " that fits the user's request. If your search doesn't return a result, you can change your search query and search \n",
    " again. If you can't find a tool after several attempts, you ask the user for more information.\n",
    "read_manual (if applicable): If a tool is specified, you read the tool's help manual to identify relevant command line options.\n",
    "gather_parameters: Determine if all necessary parameters and options are provided. If not, ask the user for more information.\n",
    "construct_command : Construct the command line based on the information you collected. \n",
    "execute_command: confirming with the user before execute it\n",
    "chat_with_user: use this to communicate with the user.\n",
    "'''\n",
    "# -----\n",
    "# Example 1:\n",
    "# User: \"I need to get the status of pods in a Kubernetes cluster.\"\n",
    "# Thought: The user needs information from a Kubernetes cluster. The kubectl command is suitable for this task.\n",
    "# Act: read_manual(kubectl get pods)\n",
    "# Observation: [Read about 'kubectl get pods']\n",
    "# Thought: I need to confirm the namespace or if the user wants the status from all namespaces.\n",
    "# Act: confirm_with_user(Do you want the status of pods from a specific namespace or all namespaces?)\n",
    "# User: \"From the 'dev' namespace, please.\"\n",
    "# Thought: Now, I have all the details to construct the command.\n",
    "# Act: construct_command(kubectl get pods -n dev)\n",
    "# Thought: I should confirm the command with the user before executing.\n",
    "# Act: chat_with_user(Execute command: kubectl get pods -n dev?)\n",
    "# User: \"Yes, go ahead.\"\n",
    "# Act: execute_command()\n",
    "# \n",
    "# Example 2:\n",
    "# User: \"I want to create a new branch in my Git repository.\"\n",
    "# Thought: The user wants to use Git for branch management. I need to use the git branch command.\n",
    "# Act: read_manual(git branch)\n",
    "# Observation: [Confirmed usage of 'git branch' for creating new branches]\n",
    "# Thought: I need to know the name of the new branch.\n",
    "# Act: chat_with_user(What is the name of the new branch you want to create?)\n",
    "# User: \"Feature_X\"\n",
    "# Thought: Now, I can construct the Git command.\n",
    "# Act: construct_command(git branch Feature_X)\n",
    "# Thought: It's best to confirm the command with the user before executing.\n",
    "# Act: chat_with_user(Execute command: git branch Feature_X?)\n",
    "# User: \"Yes, that's correct.\"\n",
    "# Act: execute_command()\n",
    "#             '''\n",
    "    return lm"
   ],
   "metadata": {
    "collapsed": false,
    "ExecuteTime": {
     "end_time": "2023-11-27T02:51:11.147133Z",
     "start_time": "2023-11-27T02:51:11.145585Z"
    }
   },
   "id": "9510ac452ad0d25d"
  },
  {
   "cell_type": "code",
   "execution_count": 33,
   "outputs": [],
   "source": [
    "@guidance\n",
    "def search(lm, query):\n",
    "    from langchain.tools import DuckDuckGoSearchResults\n",
    "    # Setting this for later use\n",
    "    lm = lm.set('query', query)\n",
    "    # This is where search actually gets called\n",
    "    search = DuckDuckGoSearchResults()\n",
    "    results = search.run(query)\n",
    "    # todo: use llamaIndex to do reranking\n",
    "    temp_lm = (lm + \"Search result:\\n\"\n",
    "                    f\"\"\"{results}\"\"\"\n",
    "    \"\\nInternal Thinking: Does the search result provides information \"\n",
    "                    \"that can help me solve the current task?\\nAnswer:\"\n",
    "               + select(['yes', 'no'], name='answer'))\n",
    "    if temp_lm['answer'] == 'no':\n",
    "        temp_lm += ('\\nInternal Thinking: Based on the last search result, I should adjust my '\n",
    "                    'search terms to be more specific. Do I have a better search term?\\nAnswer:'\n",
    "                    + gen(name='better_search_term', stop='\\n', min_length=1, max_length=100))\n",
    "        lm += '\\nObservation:\\nLast search result was not relevant. I should adjust my search term to: ' + temp_lm['better_search_term']\n",
    "    else:\n",
    "        temp_lm += (\"\\nInternal Thinking:\\n Here's one paragraph summary of the command that I can use for \"\n",
    "                    f'''current task:\"{gen(name='summary', stop='\"', min_length=1, max_length=100)}\"\\n''')\n",
    "        logger.info(\"search_summary:\\n\" + temp_lm['summary'])\n",
    "        lm = lm.set('search_summary', temp_lm['summary'])\n",
    "        lm += '\\nObservation:\\n' + lm['search_summary'] + '\\n'\n",
    "    return lm\n"
   ],
   "metadata": {
    "collapsed": false,
    "ExecuteTime": {
     "end_time": "2023-11-27T02:51:11.379805Z",
     "start_time": "2023-11-27T02:51:11.373739Z"
    }
   },
   "id": "83673c6422db41ec"
  },
  {
   "cell_type": "code",
   "execution_count": 34,
   "outputs": [],
   "source": [
    "import subprocess\n",
    "\n",
    "def run_command(command):\n",
    "    \"\"\"Run a shell command and return its output.\"\"\"\n",
    "    result = subprocess.run(command, stdout=subprocess.PIPE, stderr=subprocess.PIPE, text=True, shell=True)\n",
    "    return result.stdout, result.stderr\n",
    "\n",
    "def get_help_for_command(base_command):\n",
    "    \"\"\"Recursively get help text for a command and its child commands.\"\"\"\n",
    "    help_text, _ = run_command(f\"{base_command} --help\")\n",
    "    return help_text\n",
    "\n",
    "def token_count(llm, text):\n",
    "    # This only works for LlamaCpp from guidance\n",
    "    tok = llm._orig_tokenizer.llama.tokenize(text.encode('utf-8'))\n",
    "    return len(tok)"
   ],
   "metadata": {
    "collapsed": false,
    "ExecuteTime": {
     "end_time": "2023-11-27T02:51:11.861888Z",
     "start_time": "2023-11-27T02:51:11.860468Z"
    }
   },
   "id": "2bfca5ef475f6d9c"
  },
  {
   "cell_type": "code",
   "execution_count": 35,
   "outputs": [],
   "source": [
    "from langchain.text_splitter import RecursiveCharacterTextSplitter\n",
    "text_splitter = RecursiveCharacterTextSplitter(\n",
    "    chunk_size = 500,\n",
    "    chunk_overlap  = 50,\n",
    "    length_function = len,\n",
    "    is_separator_regex = False,\n",
    ")\n",
    "\n",
    "def convert_help_page_to_text(s):\n",
    "    \"\"\"\n",
    "    Process Backspace Characters (\\x08):  In command-line formatting, backspace is often used to create bold or underlined text by writing a character, moving back with a backspace, and then overwriting it with the same or a different character. For plain text conversion, you'd typically want to keep just one instance of the character.\n",
    "    \"\"\"\n",
    "    import re\n",
    "    return re.sub('.\\x08', '', s)"
   ],
   "metadata": {
    "collapsed": false,
    "ExecuteTime": {
     "end_time": "2023-11-27T02:51:12.210824Z",
     "start_time": "2023-11-27T02:51:12.165419Z"
    }
   },
   "id": "4dd07d159e1bb226"
  },
  {
   "cell_type": "code",
   "execution_count": 36,
   "outputs": [],
   "source": [
    "# test = get_help_for_command('git branch')\n",
    "# %timeit convert_help_page_to_text(test)"
   ],
   "metadata": {
    "collapsed": false,
    "ExecuteTime": {
     "end_time": "2023-11-27T02:51:12.564471Z",
     "start_time": "2023-11-27T02:51:12.564021Z"
    }
   },
   "id": "c5b9cf8d21a48242"
  },
  {
   "cell_type": "code",
   "execution_count": 37,
   "outputs": [],
   "source": [
    "@guidance\n",
    "def read_manual(lm, base_command):\n",
    "    # Setting this for later use\n",
    "    lm = lm.set('base_command', base_command)\n",
    "    lm = lm.set('manual', get_help_for_command(base_command))\n",
    "    # todo: use llamaIndex to do reranking\n",
    "    len_manual = token_count(lm, lm['manual'])\n",
    "    if len_manual > 500:\n",
    "        text_splitter = RecursiveCharacterTextSplitter(\n",
    "            chunk_size = int(len(lm['manual'])/(int(len_manual/500)+1)),\n",
    "            chunk_overlap  = 50,\n",
    "            length_function = len,\n",
    "            is_separator_regex = False,\n",
    "        )\n",
    "        docs = text_splitter.create_documents([convert_help_page_to_text(lm['manual'])])\n",
    "        summary = []\n",
    "        for d in docs:\n",
    "            temp_lm = (lm + \"Part of the manual:\\n\"\n",
    "                        f\"\"\"{d}\\n\"\"\" + \"Internal Thinking: Does the manual provides relevant information?\\nAnswer:\" + \n",
    "                       select(['yes', 'no'], name='answer')+ '\\n'\"\")\n",
    "            if temp_lm['answer'] == 'no':\n",
    "                pass\n",
    "            else:\n",
    "                temp_lm += (\"\\nInternal Thinking:\\n Here's one paragraph summary of the command that I can use for \"\n",
    "                            f'''current task:\"{gen(name='summary', stop='\"', min_length=1, max_length=100)}\"\\n''')\n",
    "                logger.info(temp_lm)\n",
    "                summary.append(temp_lm['summary'])\n",
    "        lm += '\\nObservation:\\n' + \";\".join(summary) + '\\n'\n",
    "    else:\n",
    "        temp_lm = (lm + \"\\nInternal Thinking:\\n Here's one paragraph summary of the command that I can use for \"\n",
    "                        f'''current task:\"{gen(name='summary', stop='\"', min_length=1, max_length=100)}\"\\n''')\n",
    "        logger.info(temp_lm)\n",
    "        lm = lm.set('manual_summary', temp_lm['summary'])\n",
    "        lm += '\\nObservation:\\n' + lm['manual'] + '\\n'\n",
    "    return lm"
   ],
   "metadata": {
    "collapsed": false,
    "ExecuteTime": {
     "end_time": "2023-11-27T02:51:12.941858Z",
     "start_time": "2023-11-27T02:51:12.900494Z"
    }
   },
   "id": "6a64da207bcd8ca5"
  },
  {
   "cell_type": "code",
   "execution_count": 38,
   "outputs": [],
   "source": [
    "@guidance\n",
    "def construct_command(lm):\n",
    "    temp_lm = (lm + '\\nInternal Thinking:\\nBased on the manual and the information provided by the user, do I have all the parameters and options to construct the final command?\\n' + select(['yes', 'no'], name='answer'))\n",
    "    if temp_lm['answer'] == 'no':\n",
    "        lm += '\\nObservation:\\nI need to ask the user for more information.'\n",
    "    elif temp_lm['answer'] == 'yes':\n",
    "        temp_lm = (lm + '\\nInternal Thinking:\\nBased on the information I collected, the command line should be:\\n' \n",
    "        + gen(name='command', stop='\\n', min_length=1, max_length=100))\n",
    "        logger.info(temp_lm)\n",
    "        lm = lm.set('command', temp_lm['command'])\n",
    "        lm += '\\nObservation:\\nfinal command should be:\\n' + lm['command'] + '\\n'\n",
    "    return lm\n",
    "\n",
    "@guidance\n",
    "def gather_parameters(lm):\n",
    "    # Setting this for later use\n",
    "    temp_lm = (lm + '\\nInternal Thinking:\\nBased on the manual and the information provided by the user, do I have '\n",
    "                    'all the parameters and options to construct the final command?\\n' \n",
    "    + select(['yes', 'no'], name='answer'))\n",
    "    if temp_lm['answer'] == 'no':\n",
    "        lm += '\\nObservation:\\nI need to ask the user for more information.\\n'\n",
    "    else:\n",
    "        lm += '\\nObservation:\\nI have all the information I need.\\n'\n",
    "    return lm\n"
   ],
   "metadata": {
    "collapsed": false,
    "ExecuteTime": {
     "end_time": "2023-11-27T02:51:13.312909Z",
     "start_time": "2023-11-27T02:51:13.266666Z"
    }
   },
   "id": "3b2625d6d31035c"
  },
  {
   "cell_type": "code",
   "execution_count": 39,
   "outputs": [],
   "source": [
    "@guidance\n",
    "def execute_command(lm, command):\n",
    "    lm = lm.set('execute_result', run_command(command))\n",
    "    lm += '\\nObservation:\\nexecution result:\\n' + lm['execute_result']\n",
    "    return lm"
   ],
   "metadata": {
    "collapsed": false,
    "ExecuteTime": {
     "end_time": "2023-11-27T02:51:13.658193Z",
     "start_time": "2023-11-27T02:51:13.657308Z"
    }
   },
   "id": "4c345b7cc5a27953"
  },
  {
   "cell_type": "code",
   "execution_count": 46,
   "outputs": [],
   "source": [
    "@guidance\n",
    "def chat_search(lm, query):\n",
    "    with user():\n",
    "        lm += f'User: {query}'\n",
    "        lm = lm.set('user_query', query)\n",
    "    with assistant():\n",
    "        lm += react_loop()\n",
    "    return lm\n",
    "\n",
    "@guidance\n",
    "def react_loop(lm):\n",
    "    while True:\n",
    "        lm += select(['Thought', 'Act'], name='step')\n",
    "        if lm['step'] == 'Act':\n",
    "            lm += ': ' + select(['search', 'read_manual', 'gather_parameters', 'construct_command', 'execute_command', 'chat_with_user'], name='action')\n",
    "            action = lm['action']\n",
    "            if action == 'search':\n",
    "                # generate the search query\n",
    "                lm += f'''({select(['the best command line tools for', 'what is',  'how can I'], name='search_prefix')} {gen(stop=')', name='args')})\\n'''\n",
    "                # search the web and paste result into the prompt\n",
    "                lm += search(f'{lm[\"search_prefix\"]} {lm[\"args\"]}')\n",
    "            elif action == 'chat_with_user':\n",
    "                # generate the response and stop the loop to wait for user input\n",
    "                lm += f'''({gen(name='arg', stop=')')})\\n'''\n",
    "                break\n",
    "            elif action == 'read_manual':\n",
    "                # generate the search query\n",
    "                lm += f'''({gen(name='arg', stop=')')})\\n'''\n",
    "                # search the web and paste result into the prompt\n",
    "                lm += read_manual(lm['arg'])\n",
    "            elif action == 'construct_command':\n",
    "                lm += '()\\n'\n",
    "                lm += construct_command()\n",
    "            elif action == 'gather_parameters':\n",
    "                lm += '()\\n'\n",
    "                lm += gather_parameters()\n",
    "            elif action == 'execute_command':\n",
    "                if 'command' not in lm:\n",
    "                    lm += '()\\nThought: I need to construct the command first.\\nAct: construct_command()\\n'\n",
    "                    lm += construct_command()\n",
    "                else:\n",
    "                    lm += (\"()\\nInternal Thinking:\\nDo I have the user's permission to execute the command?\\nAnswer:\"\n",
    "                    + select(['yes', 'no'], name='permission_to_execute'))\n",
    "                    if lm['permission_to_execute'] == 'yes':\n",
    "                        lm += f\"({lm['command']})\\n\"\n",
    "                        lm += execute_command(lm['command'])\n",
    "                    else:\n",
    "                        lm += '()\\nThought: I need to ask the user for permission.\\n'\n",
    "        else:\n",
    "            lm += ': ' + gen('thought', list_append=True, stop=\"Act:\", stop_regex=\"^(\\\\n\\\\n)\",max_tokens=300)\n",
    "    return lm"
   ],
   "metadata": {
    "collapsed": false,
    "ExecuteTime": {
     "end_time": "2023-11-27T03:04:46.814477Z",
     "start_time": "2023-11-27T03:04:46.809193Z"
    }
   },
   "id": "81dd5520750f59a5"
  },
  {
   "cell_type": "code",
   "execution_count": 47,
   "outputs": [
    {
     "data": {
      "text/plain": "<IPython.core.display.HTML object>",
      "text/html": "<pre style='margin: 0px; padding: 0px; padding-left: 8px; margin-left: -8px; border-radius: 0px; border-left: 1px solid rgba(127, 127, 127, 0.2); white-space: pre-wrap; font-family: ColfaxAI, Arial; font-size: 15px; line-height: 23px;'><div style='display: flex; border-bottom: 1px solid rgba(127, 127, 127, 0.2); align-items: center;'><div style='flex: 0 0 80px; opacity: 0.5;'>system</div><div style='flex-grow: 1; padding: 5px; padding-top: 10px; padding-bottom: 10px; margin-top: 0px; white-space: pre-wrap; margin-bottom: 0px;'><div style='display: inline-block; cursor: pointer; opacity: 0.5; width: 2px; margin-left: -2px;' onClick='this.nextSibling.style.display = \"inline\"; this.style.display = \"none\"'>&caron;</div><div style='display: none;'>You are a nice chatbot that assist users in executing command line programs.\nWhenever you receive a request, you perform a logical reasoning step by step to determine what to do.\nEvery step, you can choose to think more about your plan, or you can take an action to obtain more information.\nYou run a loop of [Thought, Act, Observation] until you achieve a response, where Act is one of \n(search, read_manual, gather_parameters, construct_command, execute_command, chat_with_user).\n\nsearch (if needed): If the user doesn&#x27;t specify a tool, you use an internet search engine to find a command line tool\n that fits the user&#x27;s request. If your search doesn&#x27;t return a result, you can change your search query and search \n again. If you can&#x27;t find a tool after several attempts, you ask the user for more information.\nread_manual (if applicable): If a tool is specified, you read the tool&#x27;s help manual to identify relevant command line options.\ngather_parameters: Determine if all necessary parameters and options are provided. If not, ask the user for more information.\nconstruct_command : Construct the command line based on the information you collected. \nexecute_command: confirming with the user before execute it\nchat_with_user: use this to communicate with the user.\n</div></div></div></pre>"
     },
     "metadata": {},
     "output_type": "display_data"
    }
   ],
   "source": [
    "# Pre-load the prompt and system message so we can reuse this\n",
    "search_lm = llmc + init_system()"
   ],
   "metadata": {
    "collapsed": false
   },
   "id": "1c68a9080362d14f"
  },
  {
   "cell_type": "code",
   "execution_count": 48,
   "outputs": [
    {
     "data": {
      "text/plain": "<IPython.core.display.HTML object>",
      "text/html": "<pre style='margin: 0px; padding: 0px; padding-left: 8px; margin-left: -8px; border-radius: 0px; border-left: 1px solid rgba(127, 127, 127, 0.2); white-space: pre-wrap; font-family: ColfaxAI, Arial; font-size: 15px; line-height: 23px;'><div style='display: flex; border-bottom: 1px solid rgba(127, 127, 127, 0.2); align-items: center;'><div style='flex: 0 0 80px; opacity: 0.5;'>system</div><div style='flex-grow: 1; padding: 5px; padding-top: 10px; padding-bottom: 10px; margin-top: 0px; white-space: pre-wrap; margin-bottom: 0px;'><div style='display: inline-block; cursor: pointer; opacity: 0.5; width: 2px; margin-left: -2px;' onClick='this.nextSibling.style.display = \"inline\"; this.style.display = \"none\"'>&caron;</div><div style='display: none;'>You are a nice chatbot that assist users in executing command line programs.\nWhenever you receive a request, you perform a logical reasoning step by step to determine what to do.\nEvery step, you can choose to think more about your plan, or you can take an action to obtain more information.\nYou run a loop of [Thought, Act, Observation] until you achieve a response, where Act is one of \n(search, read_manual, gather_parameters, construct_command, execute_command, chat_with_user).\n\nsearch (if needed): If the user doesn&#x27;t specify a tool, you use an internet search engine to find a command line tool\n that fits the user&#x27;s request. If your search doesn&#x27;t return a result, you can change your search query and search \n again. If you can&#x27;t find a tool after several attempts, you ask the user for more information.\nread_manual (if applicable): If a tool is specified, you read the tool&#x27;s help manual to identify relevant command line options.\ngather_parameters: Determine if all necessary parameters and options are provided. If not, ask the user for more information.\nconstruct_command : Construct the command line based on the information you collected. \nexecute_command: confirming with the user before execute it\nchat_with_user: use this to communicate with the user.\n</div></div></div><div style='display: flex; border-bottom: 1px solid rgba(127, 127, 127, 0.2); align-items: center;'><div style='flex: 0 0 80px; opacity: 0.5;'>user</div><div style='flex-grow: 1; padding: 5px; padding-top: 10px; padding-bottom: 10px; margin-top: 0px; white-space: pre-wrap; margin-bottom: 0px;'>User: how many pods are running in my kubernetes cluster?</div></div><div style='display: flex; border-bottom: 1px solid rgba(127, 127, 127, 0.2); align-items: center;'><div style='flex: 0 0 80px; opacity: 0.5;'>assistant</div><div style='flex-grow: 1; padding: 5px; padding-top: 10px; padding-bottom: 10px; margin-top: 0px; white-space: pre-wrap; margin-bottom: 0px;'><span style='background-color: rgba(0, 165, 0, 0.15); border-radius: 3px;' title='0.0'>Thought</span>:<span style='background-color: rgba(0, 165, 0, 0.15); border-radius: 3px;' title='0.0'> The</span><span style='background-color: rgba(0, 165, 0, 0.15); border-radius: 3px;' title='0.0'> user</span><span style='background-color: rgba(0, 165, 0, 0.15); border-radius: 3px;' title='0.0'> is</span><span style='background-color: rgba(0, 165, 0, 0.15); border-radius: 3px;' title='0.0'> asking</span><span style='background-color: rgba(0, 165, 0, 0.15); border-radius: 3px;' title='0.0'> about</span><span style='background-color: rgba(0, 165, 0, 0.15); border-radius: 3px;' title='0.0'> the</span><span style='background-color: rgba(0, 165, 0, 0.15); border-radius: 3px;' title='0.0'> number</span><span style='background-color: rgba(0, 165, 0, 0.15); border-radius: 3px;' title='0.0'> of</span><span style='background-color: rgba(0, 165, 0, 0.15); border-radius: 3px;' title='0.0'> pod</span><span style='background-color: rgba(0, 165, 0, 0.15); border-radius: 3px;' title='0.0'>s</span><span style='background-color: rgba(0, 165, 0, 0.15); border-radius: 3px;' title='0.0'> running</span><span style='background-color: rgba(0, 165, 0, 0.15); border-radius: 3px;' title='0.0'> in</span><span style='background-color: rgba(0, 165, 0, 0.15); border-radius: 3px;' title='0.0'> a</span><span style='background-color: rgba(0, 165, 0, 0.15); border-radius: 3px;' title='0.0'> K</span><span style='background-color: rgba(0, 165, 0, 0.15); border-radius: 3px;' title='0.0'>ubernetes</span><span style='background-color: rgba(0, 165, 0, 0.15); border-radius: 3px;' title='0.0'> cluster</span><span style='background-color: rgba(0, 165, 0, 0.15); border-radius: 3px;' title='0.0'>.</span><span style='background-color: rgba(0, 165, 0, 0.15); border-radius: 3px;' title='0.0'>\n</span><span style='background-color: rgba(0, 165, 0, 0.15); border-radius: 3px;' title='0.0'>\n</span><span style='background-color: rgba(0, 165, 0, 0.15); border-radius: 3px;' title='0.0'>Act</span>:<span style='background-color: rgba(0, 165, 0, 0.15); border-radius: 3px;' title='0.0'> search</span><span style='background-color: rgba(0, 165, 0, 0.15); border-radius: 3px;' title='0.0'>(</span><span style='background-color: rgba(0, 165, 0, 0.15); border-radius: 3px;' title='0.0'>the</span> best command line tools for<span style='background-color: rgba(0, 165, 0, 0.15); border-radius: 3px;' title='0.0'> monitoring</span><span style='background-color: rgba(0, 165, 0, 0.15); border-radius: 3px;' title='0.0'> K</span><span style='background-color: rgba(0, 165, 0, 0.15); border-radius: 3px;' title='0.0'>ubernetes</span><span style='background-color: rgba(0, 165, 0, 0.15); border-radius: 3px;' title='0.0'> clusters</span>)\n\nObservation:\nkubectl get pods\n<span style='background-color: rgba(0, 165, 0, 0.15); border-radius: 3px;' title='0.0'>Th</span>ought:<span style='background-color: rgba(0, 165, 0, 0.15); border-radius: 3px;' title='0.0'> The</span><span style='background-color: rgba(0, 165, 0, 0.15); border-radius: 3px;' title='0.0'> command</span><span style='background-color: rgba(0, 165, 0, 0.15); border-radius: 3px;' title='0.0'> line</span><span style='background-color: rgba(0, 165, 0, 0.15); border-radius: 3px;' title='0.0'> tool</span><span style='background-color: rgba(0, 165, 0, 0.15); border-radius: 3px;' title='0.0'> for</span><span style='background-color: rgba(0, 165, 0, 0.15); border-radius: 3px;' title='0.0'> monitoring</span><span style='background-color: rgba(0, 165, 0, 0.15); border-radius: 3px;' title='0.0'> K</span><span style='background-color: rgba(0, 165, 0, 0.15); border-radius: 3px;' title='0.0'>ubernetes</span><span style='background-color: rgba(0, 165, 0, 0.15); border-radius: 3px;' title='0.0'> clusters</span><span style='background-color: rgba(0, 165, 0, 0.15); border-radius: 3px;' title='0.0'> is</span><span style='background-color: rgba(0, 165, 0, 0.15); border-radius: 3px;' title='0.0'> k</span><span style='background-color: rgba(0, 165, 0, 0.15); border-radius: 3px;' title='0.0'>ub</span><span style='background-color: rgba(0, 165, 0, 0.15); border-radius: 3px;' title='0.0'>ect</span><span style='background-color: rgba(0, 165, 0, 0.15); border-radius: 3px;' title='0.0'>l</span><span style='background-color: rgba(0, 165, 0, 0.15); border-radius: 3px;' title='0.0'>.</span><span style='background-color: rgba(0, 165, 0, 0.15); border-radius: 3px;' title='0.0'>\n</span><span style='background-color: rgba(0, 165, 0, 0.15); border-radius: 3px;' title='0.0'>\n</span><span style='background-color: rgba(0, 165, 0, 0.15); border-radius: 3px;' title='0.0'>Act</span>:<span style='background-color: rgba(0, 165, 0, 0.15); border-radius: 3px;' title='0.0'> read</span>_man<span style='background-color: rgba(0, 165, 0, 0.15); border-radius: 3px;' title='0.0'>ual</span><span style='background-color: rgba(0, 165, 0, 0.15); border-radius: 3px;' title='0.0'>(</span><span style='background-color: rgba(0, 165, 0, 0.15); border-radius: 3px;' title='0.0'>k</span><span style='background-color: rgba(0, 165, 0, 0.15); border-radius: 3px;' title='0.0'>ub</span><span style='background-color: rgba(0, 165, 0, 0.15); border-radius: 3px;' title='0.0'>ect</span><span style='background-color: rgba(0, 165, 0, 0.15); border-radius: 3px;' title='0.0'>l</span>)\n\nObservation:\nkubectl get pods;kubectl get pods;kubectl get pods\n<span style='background-color: rgba(0, 165, 0, 0.15); border-radius: 3px;' title='0.0'>Th</span>ought:<span style='background-color: rgba(0, 165, 0, 0.15); border-radius: 3px;' title='0.0'> The</span><span style='background-color: rgba(0, 165, 0, 0.15); border-radius: 3px;' title='0.0'> command</span><span style='background-color: rgba(0, 165, 0, 0.15); border-radius: 3px;' title='0.0'> to</span><span style='background-color: rgba(0, 165, 0, 0.15); border-radius: 3px;' title='0.0'> get</span><span style='background-color: rgba(0, 165, 0, 0.15); border-radius: 3px;' title='0.0'> the</span><span style='background-color: rgba(0, 165, 0, 0.15); border-radius: 3px;' title='0.0'> number</span><span style='background-color: rgba(0, 165, 0, 0.15); border-radius: 3px;' title='0.0'> of</span><span style='background-color: rgba(0, 165, 0, 0.15); border-radius: 3px;' title='0.0'> pod</span><span style='background-color: rgba(0, 165, 0, 0.15); border-radius: 3px;' title='0.0'>s</span><span style='background-color: rgba(0, 165, 0, 0.15); border-radius: 3px;' title='0.0'> running</span><span style='background-color: rgba(0, 165, 0, 0.15); border-radius: 3px;' title='0.0'> in</span><span style='background-color: rgba(0, 165, 0, 0.15); border-radius: 3px;' title='0.0'> a</span><span style='background-color: rgba(0, 165, 0, 0.15); border-radius: 3px;' title='0.0'> K</span><span style='background-color: rgba(0, 165, 0, 0.15); border-radius: 3px;' title='0.0'>ubernetes</span><span style='background-color: rgba(0, 165, 0, 0.15); border-radius: 3px;' title='0.0'> cluster</span><span style='background-color: rgba(0, 165, 0, 0.15); border-radius: 3px;' title='0.0'> is</span><span style='background-color: rgba(0, 165, 0, 0.15); border-radius: 3px;' title='0.0'> k</span><span style='background-color: rgba(0, 165, 0, 0.15); border-radius: 3px;' title='0.0'>ub</span><span style='background-color: rgba(0, 165, 0, 0.15); border-radius: 3px;' title='0.0'>ect</span><span style='background-color: rgba(0, 165, 0, 0.15); border-radius: 3px;' title='0.0'>l</span><span style='background-color: rgba(0, 165, 0, 0.15); border-radius: 3px;' title='0.0'> get</span><span style='background-color: rgba(0, 165, 0, 0.15); border-radius: 3px;' title='0.0'> pod</span><span style='background-color: rgba(0, 165, 0, 0.15); border-radius: 3px;' title='0.0'>s</span><span style='background-color: rgba(0, 165, 0, 0.15); border-radius: 3px;' title='0.0'>.</span><span style='background-color: rgba(0, 165, 0, 0.15); border-radius: 3px;' title='0.0'>\n</span><span style='background-color: rgba(0, 165, 0, 0.15); border-radius: 3px;' title='0.0'>\n</span><span style='background-color: rgba(0, 165, 0, 0.15); border-radius: 3px;' title='0.0'>Act</span>:<span style='background-color: rgba(0, 165, 0, 0.15); border-radius: 3px;' title='0.0'> gather</span>_parameters()\n\nObservation:\nI need to ask the user for more information.\n<span style='background-color: rgba(0, 165, 0, 0.15); border-radius: 3px;' title='0.0'>Th</span>ought:<span style='background-color: rgba(0, 165, 0, 0.15); border-radius: 3px;' title='0.0'> What</span><span style='background-color: rgba(0, 165, 0, 0.15); border-radius: 3px;' title='0.0'> is</span><span style='background-color: rgba(0, 165, 0, 0.15); border-radius: 3px;' title='0.0'> the</span><span style='background-color: rgba(0, 165, 0, 0.15); border-radius: 3px;' title='0.0'> name</span><span style='background-color: rgba(0, 165, 0, 0.15); border-radius: 3px;' title='0.0'> of</span><span style='background-color: rgba(0, 165, 0, 0.15); border-radius: 3px;' title='0.0'> the</span><span style='background-color: rgba(0, 165, 0, 0.15); border-radius: 3px;' title='0.0'> K</span><span style='background-color: rgba(0, 165, 0, 0.15); border-radius: 3px;' title='0.0'>ubernetes</span><span style='background-color: rgba(0, 165, 0, 0.15); border-radius: 3px;' title='0.0'> cluster</span><span style='background-color: rgba(0, 165, 0, 0.15); border-radius: 3px;' title='0.0'>?</span><span style='background-color: rgba(0, 165, 0, 0.15); border-radius: 3px;' title='0.0'>\n</span><span style='background-color: rgba(0, 165, 0, 0.15); border-radius: 3px;' title='0.0'>\n</span><span style='background-color: rgba(0, 165, 0, 0.15); border-radius: 3px;' title='0.0'>Act</span>:<span style='background-color: rgba(0, 165, 0, 0.15); border-radius: 3px;' title='0.0'> chat</span>_with_<span style='background-color: rgba(0, 165, 0, 0.15); border-radius: 3px;' title='0.0'>user</span>()\n</div></div></pre>"
     },
     "metadata": {},
     "output_type": "display_data"
    }
   ],
   "source": [
    "lm = search_lm + chat_search('how many pods are running in my kubernetes cluster?')"
   ],
   "metadata": {
    "collapsed": false
   },
   "id": "3078ae8699641bf"
  },
  {
   "cell_type": "code",
   "execution_count": null,
   "outputs": [],
   "source": [],
   "metadata": {
    "collapsed": false
   },
   "id": "e9ea25d61253ebe9"
  }
 ],
 "metadata": {
  "kernelspec": {
   "display_name": "Python 3",
   "language": "python",
   "name": "python3"
  },
  "language_info": {
   "codemirror_mode": {
    "name": "ipython",
    "version": 2
   },
   "file_extension": ".py",
   "mimetype": "text/x-python",
   "name": "python",
   "nbconvert_exporter": "python",
   "pygments_lexer": "ipython2",
   "version": "2.7.6"
  }
 },
 "nbformat": 4,
 "nbformat_minor": 5
}
